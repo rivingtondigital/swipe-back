{
 "cells": [
  {
   "cell_type": "code",
   "execution_count": 30,
   "metadata": {},
   "outputs": [],
   "source": [
    "import requests\n",
    "import json\n",
    "from IPython.display import HTML"
   ]
  },
  {
   "cell_type": "code",
   "execution_count": null,
   "metadata": {},
   "outputs": [],
   "source": []
  },
  {
   "cell_type": "code",
   "execution_count": 66,
   "metadata": {},
   "outputs": [
    {
     "name": "stdout",
     "output_type": "stream",
     "text": [
      "https://hytapmq581.execute-api.us-east-1.amazonaws.com/dev/cards/fetch/Phrases/testtest\n"
     ]
    },
    {
     "data": {
      "text/plain": [
       "(<Response [200]>,\n",
       " b'{\"qcard\": {\"content\": \" <style> h3 {color:orange;margin-bottom:10px} </style> <div> <h3 style=\\\\\"margin-bottom:10px\\\\\">President Timing The reports under paragraph 1 shall be</h3> <span>Presidential Transitions Improvements Act of 2015</span> <table style=\\\\\"margin-left:30px\\\\\"> <tr> <td>President</td> <td>NNP</td> <td>6.8186</td> </tr> <tr> <td>Timing</td> <td>NNP</td> <td>0.1146</td> </tr> <tr> <td>The</td> <td>DT</td> <td>0.0005</td> </tr> <tr> <td>reports</td> <td>NNS</td> <td>0.0173</td> </tr> <tr> <td>under</td> <td>IN</td> <td>0.0005</td> </tr> <tr> <td>paragraph</td> <td>NN</td> <td>0.0177</td> </tr> <tr> <td>1</td> <td>CD</td> <td>0.0005</td> </tr> <tr> <td>shall</td> <td>MD</td> <td>0.0293</td> </tr> <tr> <td>be</td> <td>VB</td> <td>0.0005</td> </tr> </table> </div> \", \"desc\": \"Set legis_phrases: 0\", \"name\": \"phrase_0\", \"tags\": [], \"choices\": [\"relevant\", \"not\"]}, \"user\": \"testtest\", \"a_round\": 1, \"answer\": null, \"s_name\": \"Phrases\"}')"
      ]
     },
     "execution_count": 66,
     "metadata": {},
     "output_type": "execute_result"
    }
   ],
   "source": [
    "url = 'https://hytapmq581.execute-api.us-east-1.amazonaws.com/dev/cards/fetch/{qset}/{userid}'\n",
    "headers = {\n",
    "    'X-Api-Key': 'r4djhKHqzP1DNShjAzr3faFPGubypuEU1duI2Wr1'\n",
    "}\n",
    "murl = url.format(qset='Phrases', userid='testtest')\n",
    "print(murl)\n",
    "resp = requests.get(murl, headers=headers)\n",
    "card = json.loads(resp.content)\n",
    "resp, resp.content"
   ]
  },
  {
   "cell_type": "code",
   "execution_count": 71,
   "metadata": {},
   "outputs": [
    {
     "data": {
      "text/plain": [
       "{'a_round': 1,\n",
       " 'answer': 'relevant',\n",
       " 'qcard': {'choices': ['relevant', 'not'],\n",
       "  'content': ' <style> h3 {color:orange;margin-bottom:10px} </style> <div> <h3 style=\"margin-bottom:10px\">President Timing The reports under paragraph 1 shall be</h3> <span>Presidential Transitions Improvements Act of 2015</span> <table style=\"margin-left:30px\"> <tr> <td>President</td> <td>NNP</td> <td>6.8186</td> </tr> <tr> <td>Timing</td> <td>NNP</td> <td>0.1146</td> </tr> <tr> <td>The</td> <td>DT</td> <td>0.0005</td> </tr> <tr> <td>reports</td> <td>NNS</td> <td>0.0173</td> </tr> <tr> <td>under</td> <td>IN</td> <td>0.0005</td> </tr> <tr> <td>paragraph</td> <td>NN</td> <td>0.0177</td> </tr> <tr> <td>1</td> <td>CD</td> <td>0.0005</td> </tr> <tr> <td>shall</td> <td>MD</td> <td>0.0293</td> </tr> <tr> <td>be</td> <td>VB</td> <td>0.0005</td> </tr> </table> </div> ',\n",
       "  'desc': 'Set legis_phrases: 0',\n",
       "  'name': 'phrase_0',\n",
       "  'tags': []},\n",
       " 's_name': 'Phrases',\n",
       " 'user': 'testtest'}"
      ]
     },
     "execution_count": 71,
     "metadata": {},
     "output_type": "execute_result"
    }
   ],
   "source": [
    "card['answer'] = 'relevant'\n",
    "card"
   ]
  },
  {
   "cell_type": "code",
   "execution_count": 72,
   "metadata": {},
   "outputs": [
    {
     "data": {
      "text/plain": [
       "<Response [200]>"
      ]
     },
     "execution_count": 72,
     "metadata": {},
     "output_type": "execute_result"
    }
   ],
   "source": [
    "url = 'https://hytapmq581.execute-api.us-east-1.amazonaws.com/dev/cards/answer'\n",
    "headers = {\n",
    "    'X-Api-Key': 'r4djhKHqzP1DNShjAzr3faFPGubypuEU1duI2Wr1'\n",
    "}\n",
    "resp = requests.post(url, headers=headers, data=json.dumps(card))\n",
    "resp"
   ]
  },
  {
   "cell_type": "code",
   "execution_count": 69,
   "metadata": {},
   "outputs": [
    {
     "data": {
      "text/plain": [
       "b'OK'"
      ]
     },
     "execution_count": 69,
     "metadata": {},
     "output_type": "execute_result"
    }
   ],
   "source": [
    "resp.content"
   ]
  },
  {
   "cell_type": "code",
   "execution_count": null,
   "metadata": {},
   "outputs": [],
   "source": [
    "HTML(card['qcard']['content'])"
   ]
  },
  {
   "cell_type": "code",
   "execution_count": 26,
   "metadata": {},
   "outputs": [
    {
     "data": {
      "text/plain": [
       "b'[\"Cats\", \"Phrases\"]'"
      ]
     },
     "execution_count": 26,
     "metadata": {},
     "output_type": "execute_result"
    }
   ],
   "source": [
    "url = 'https://npyh7bchb5.execute-api.us-east-1.amazonaws.com/dev/sets/list'\n",
    "resp = requests.get(url)\n",
    "resp.content"
   ]
  },
  {
   "cell_type": "code",
   "execution_count": 49,
   "metadata": {},
   "outputs": [],
   "source": [
    "data = {\"qcard\": {\"content\": \" <style> h3 {color:orange;margin-bottom:10px} </style> <div> <h3 style=\\\"margin-bottom:10px\\\">President Timing The reports under paragraph 1 shall be</h3> <span>Presidential Transitions Improvements Act of 2015</span> <table style=\\\"margin-left:30px\\\"> <tr> <td>President</td> <td>NNP</td> <td>6.8186</td> </tr> <tr> <td>Timing</td> <td>NNP</td> <td>0.1146</td> </tr> <tr> <td>The</td> <td>DT</td> <td>0.0005</td> </tr> <tr> <td>reports</td> <td>NNS</td> <td>0.0173</td> </tr> <tr> <td>under</td> <td>IN</td> <td>0.0005</td> </tr> <tr> <td>paragraph</td> <td>NN</td> <td>0.0177</td> </tr> <tr> <td>1</td> <td>CD</td> <td>0.0005</td> </tr> <tr> <td>shall</td> <td>MD</td> <td>0.0293</td> </tr> <tr> <td>be</td> <td>VB</td> <td>0.0005</td> </tr> </table> </div> \", \"desc\": \"Set legis_phrases: 0\", \"name\": \"phrase_0\", \"tags\": [], \"choices\": [\"relevant\", \"not\"]}, \"user\": \"testtest\", \"a_round\": 1, \"answer\": \"relevant\", \"name\": \"phrase_0.json\"}"
   ]
  },
  {
   "cell_type": "code",
   "execution_count": 63,
   "metadata": {},
   "outputs": [
    {
     "data": {
      "text/plain": [
       "'phrase_0'"
      ]
     },
     "execution_count": 63,
     "metadata": {},
     "output_type": "execute_result"
    }
   ],
   "source": [
    "data['qcard']['name']"
   ]
  },
  {
   "cell_type": "code",
   "execution_count": null,
   "metadata": {},
   "outputs": [],
   "source": []
  }
 ],
 "metadata": {
  "kernelspec": {
   "display_name": "Python 3",
   "language": "python",
   "name": "python3"
  },
  "language_info": {
   "codemirror_mode": {
    "name": "ipython",
    "version": 3
   },
   "file_extension": ".py",
   "mimetype": "text/x-python",
   "name": "python",
   "nbconvert_exporter": "python",
   "pygments_lexer": "ipython3",
   "version": "3.6.2"
  }
 },
 "nbformat": 4,
 "nbformat_minor": 2
}
